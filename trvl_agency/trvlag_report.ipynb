{
 "cells": [
  {
   "cell_type": "code",
   "execution_count": 25,
   "id": "539a1b9f",
   "metadata": {},
   "outputs": [
    {
     "data": {
      "text/html": [
       "<div>\n",
       "<style scoped>\n",
       "    .dataframe tbody tr th:only-of-type {\n",
       "        vertical-align: middle;\n",
       "    }\n",
       "\n",
       "    .dataframe tbody tr th {\n",
       "        vertical-align: top;\n",
       "    }\n",
       "\n",
       "    .dataframe thead th {\n",
       "        text-align: right;\n",
       "    }\n",
       "</style>\n",
       "<table border=\"1\" class=\"dataframe\">\n",
       "  <thead>\n",
       "    <tr style=\"text-align: right;\">\n",
       "      <th></th>\n",
       "      <th>ID</th>\n",
       "      <th>LOGIN</th>\n",
       "      <th>COUNTRY_NAME</th>\n",
       "      <th>S_DATE</th>\n",
       "      <th>E_DATE</th>\n",
       "      <th>PRICE</th>\n",
       "      <th>SPOT</th>\n",
       "    </tr>\n",
       "  </thead>\n",
       "  <tbody>\n",
       "    <tr>\n",
       "      <th>0</th>\n",
       "      <td>1</td>\n",
       "      <td>us@usa.com</td>\n",
       "      <td>Usa</td>\n",
       "      <td>2021-09-30</td>\n",
       "      <td>2021-12-30</td>\n",
       "      <td>1300.0</td>\n",
       "      <td>2</td>\n",
       "    </tr>\n",
       "    <tr>\n",
       "      <th>1</th>\n",
       "      <td>3</td>\n",
       "      <td>us@usa.com</td>\n",
       "      <td>Canada</td>\n",
       "      <td>2021-01-30</td>\n",
       "      <td>2021-04-30</td>\n",
       "      <td>1200.0</td>\n",
       "      <td>2</td>\n",
       "    </tr>\n",
       "    <tr>\n",
       "      <th>2</th>\n",
       "      <td>4</td>\n",
       "      <td>ranger@rover.com</td>\n",
       "      <td>Canada</td>\n",
       "      <td>2021-01-30</td>\n",
       "      <td>2021-04-30</td>\n",
       "      <td>1200.0</td>\n",
       "      <td>2</td>\n",
       "    </tr>\n",
       "    <tr>\n",
       "      <th>3</th>\n",
       "      <td>5</td>\n",
       "      <td>ranger@rover.com</td>\n",
       "      <td>Usa</td>\n",
       "      <td>2021-05-30</td>\n",
       "      <td>2021-08-30</td>\n",
       "      <td>1300.0</td>\n",
       "      <td>1</td>\n",
       "    </tr>\n",
       "    <tr>\n",
       "      <th>4</th>\n",
       "      <td>6</td>\n",
       "      <td>ranger@rover.com</td>\n",
       "      <td>Brazil</td>\n",
       "      <td>2021-09-30</td>\n",
       "      <td>2021-12-30</td>\n",
       "      <td>1400.0</td>\n",
       "      <td>1</td>\n",
       "    </tr>\n",
       "    <tr>\n",
       "      <th>5</th>\n",
       "      <td>9</td>\n",
       "      <td>p@gamil.com</td>\n",
       "      <td>Usa</td>\n",
       "      <td>2021-05-30</td>\n",
       "      <td>2021-08-30</td>\n",
       "      <td>1300.0</td>\n",
       "      <td>1</td>\n",
       "    </tr>\n",
       "  </tbody>\n",
       "</table>\n",
       "</div>"
      ],
      "text/plain": [
       "   ID             LOGIN COUNTRY_NAME      S_DATE      E_DATE   PRICE  SPOT\n",
       "0   1        us@usa.com          Usa  2021-09-30  2021-12-30  1300.0     2\n",
       "1   3        us@usa.com       Canada  2021-01-30  2021-04-30  1200.0     2\n",
       "2   4  ranger@rover.com       Canada  2021-01-30  2021-04-30  1200.0     2\n",
       "3   5  ranger@rover.com          Usa  2021-05-30  2021-08-30  1300.0     1\n",
       "4   6  ranger@rover.com       Brazil  2021-09-30  2021-12-30  1400.0     1\n",
       "5   9       p@gamil.com          Usa  2021-05-30  2021-08-30  1300.0     1"
      ]
     },
     "execution_count": 25,
     "metadata": {},
     "output_type": "execute_result"
    }
   ],
   "source": [
    "import sqlite3 as sql\n",
    "import pandas as pd\n",
    "import numpy as np\n",
    "import matplotlib.pyplot as plot\n",
    "\n",
    "conn = sql.connect('trvlag.db')\n",
    "\n",
    "query = '''SELECT * FROM booking'''\n",
    "\n",
    "df = pd.read_sql_query(query, conn)\n",
    "df\n",
    "\n"
   ]
  },
  {
   "cell_type": "code",
   "execution_count": 24,
   "id": "4f5950ce",
   "metadata": {},
   "outputs": [
    {
     "data": {
      "image/png": "[encoded data removed]",
      "text/plain": [
       "<Figure size 576x288 with 1 Axes>"
      ]
     },
     "metadata": {
      "needs_background": "light"
     },
     "output_type": "display_data"
    }
   ],
   "source": [
    "listCountry0 = df['COUNTRY_NAME'] == df['COUNTRY_NAME'][0]\n",
    "listCountry1  = df['COUNTRY_NAME'] == df['COUNTRY_NAME'][1]\n",
    "listCountry2 = df['COUNTRY_NAME'] == df['COUNTRY_NAME'][4]\n",
    "\n",
    "data = {str(df['COUNTRY_NAME'][0]): len(df[listCountry0]),\n",
    "         str(df['COUNTRY_NAME'][1]): len(df[listCountry1]),\n",
    "         str(df['COUNTRY_NAME'][4]): len(df[listCountry2]) }\n",
    "\n",
    "courses = list(data.keys())\n",
    "values = list(data.values())\n",
    "\n",
    "fig = plot.figure(figsize = (8, 4))\n",
    "plot.bar(courses, values, color ='blue', width = 0.3)\n",
    "plot.xlabel(\"Country\")\n",
    "plot.ylabel(\"Count\")\n",
    "plot.title(\"No of entries in the country\")\n",
    "plot.show()"
   ]
  },
  {
   "cell_type": "code",
   "execution_count": null,
   "id": "bccdb001",
   "metadata": {},
   "outputs": [],
   "source": []
  }
 ],
 "metadata": {
  "kernelspec": {
   "display_name": "Python 3 (ipykernel)",
   "language": "python",
   "name": "python3"
  },
  "language_info": {
   "codemirror_mode": {
    "name": "ipython",
    "version": 3
   },
   "file_extension": ".py",
   "mimetype": "text/x-python",
   "name": "python",
   "nbconvert_exporter": "python",
   "pygments_lexer": "ipython3",
   "version": "3.8.12"
  }
 },
 "nbformat": 4,
 "nbformat_minor": 5
}
